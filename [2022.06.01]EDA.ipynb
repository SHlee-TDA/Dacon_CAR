{
 "cells": [
  {
   "cell_type": "markdown",
   "metadata": {},
   "source": [
    "# 공부하면서 배우는 EDA (1)\n",
    "\n",
    "**작성자 DACON ID : TDA**\n",
    "\n",
    "이 포스팅은 데이터분석, 통계학을 실제 데이터에 응용하면서 공부하기 위해 작성된 자료입니다.\n",
    "\n",
    "이 포스팅은 가능하다면 하루에 한 편씩 제가 수행하는 만큼 시리즈로 제작할 예정입니다.\n",
    "\n",
    "작성자는 데이터분석, 통계학에 능통하지 않습니다. \n",
    "\n",
    "오히려 초보에 가깝기 때문에 수준높은 분석은 아직 어렵습니다.\n",
    "\n",
    "만약 이 포스팅을 읽으시는 분도 저와 유사한 수준의 지식과 기술을 가지고 계시다면, 이 포스팅을 읽으시면서 공부했던 것을 복습하는 시간이 될 것이라 생각합니다.\n",
    "\n",
    "또한 얼마든지 잘못된 분석이 있을 수 있습니다.\n",
    "\n",
    "이에 대해 코멘트를 남겨주시면 너무 감사하겠습니다.\n",
    "\n",
    ">본 EDA는 DACONIO님의 baseline [EDA](https://dacon.io/competitions/official/235901/codeshare/5061?page=1&dtype=recent)와 데이터 분석 교과서 'Practical Statistics for Data Scientists, 2nd edition (Peter Bruce, Andrew Bruce, Peter Gedeck)'를 참고했습니다."
   ]
  },
  {
   "cell_type": "markdown",
   "metadata": {},
   "source": [
    "# 0. 라이브러리 임포트 및 데이터 불러오기"
   ]
  },
  {
   "cell_type": "code",
   "execution_count": 92,
   "metadata": {},
   "outputs": [],
   "source": [
    "import pandas as pd \n",
    "import numpy as np \n",
    "import matplotlib as mpl\n",
    "import matplotlib.pyplot as plt\n",
    "import seaborn as sns\n",
    "import scipy as sp\n",
    "%matplotlib inline  \n",
    "%precision 3\n",
    "\n",
    "\n",
    "# 시각화 설정\n",
    "colors = [plt.cm.Dark2(i) for i in range(20)]\n",
    "mpl.rcParams.update({'font.size':18})"
   ]
  },
  {
   "cell_type": "code",
   "execution_count": 27,
   "metadata": {},
   "outputs": [
    {
     "data": {
      "text/html": [
       "<div>\n",
       "<style scoped>\n",
       "    .dataframe tbody tr th:only-of-type {\n",
       "        vertical-align: middle;\n",
       "    }\n",
       "\n",
       "    .dataframe tbody tr th {\n",
       "        vertical-align: top;\n",
       "    }\n",
       "\n",
       "    .dataframe thead th {\n",
       "        text-align: right;\n",
       "    }\n",
       "</style>\n",
       "<table border=\"1\" class=\"dataframe\">\n",
       "  <thead>\n",
       "    <tr style=\"text-align: right;\">\n",
       "      <th></th>\n",
       "      <th>id</th>\n",
       "      <th>title</th>\n",
       "      <th>odometer</th>\n",
       "      <th>location</th>\n",
       "      <th>isimported</th>\n",
       "      <th>engine</th>\n",
       "      <th>transmission</th>\n",
       "      <th>fuel</th>\n",
       "      <th>paint</th>\n",
       "      <th>year</th>\n",
       "      <th>target</th>\n",
       "    </tr>\n",
       "  </thead>\n",
       "  <tbody>\n",
       "    <tr>\n",
       "      <th>0</th>\n",
       "      <td>0</td>\n",
       "      <td>Toyota RAV 4</td>\n",
       "      <td>18277</td>\n",
       "      <td>Lagos</td>\n",
       "      <td>Foreign Used</td>\n",
       "      <td>4-cylinder(I4)</td>\n",
       "      <td>automatic</td>\n",
       "      <td>petrol</td>\n",
       "      <td>Red</td>\n",
       "      <td>2016</td>\n",
       "      <td>13665000</td>\n",
       "    </tr>\n",
       "    <tr>\n",
       "      <th>1</th>\n",
       "      <td>1</td>\n",
       "      <td>Toyota Land Cruiser</td>\n",
       "      <td>10</td>\n",
       "      <td>Lagos</td>\n",
       "      <td>New</td>\n",
       "      <td>4-cylinder(I4)</td>\n",
       "      <td>automatic</td>\n",
       "      <td>petrol</td>\n",
       "      <td>Black</td>\n",
       "      <td>2019</td>\n",
       "      <td>33015000</td>\n",
       "    </tr>\n",
       "    <tr>\n",
       "      <th>2</th>\n",
       "      <td>2</td>\n",
       "      <td>Land Rover Range Rover Evoque</td>\n",
       "      <td>83091</td>\n",
       "      <td>Lagos</td>\n",
       "      <td>Foreign Used</td>\n",
       "      <td>6-cylinder(V6)</td>\n",
       "      <td>automatic</td>\n",
       "      <td>petrol</td>\n",
       "      <td>Red</td>\n",
       "      <td>2012</td>\n",
       "      <td>9915000</td>\n",
       "    </tr>\n",
       "    <tr>\n",
       "      <th>3</th>\n",
       "      <td>3</td>\n",
       "      <td>Lexus ES 350</td>\n",
       "      <td>91524</td>\n",
       "      <td>Lagos</td>\n",
       "      <td>Foreign Used</td>\n",
       "      <td>4-cylinder(I4)</td>\n",
       "      <td>automatic</td>\n",
       "      <td>petrol</td>\n",
       "      <td>Gray</td>\n",
       "      <td>2007</td>\n",
       "      <td>3815000</td>\n",
       "    </tr>\n",
       "    <tr>\n",
       "      <th>4</th>\n",
       "      <td>4</td>\n",
       "      <td>Toyota Venza</td>\n",
       "      <td>94177</td>\n",
       "      <td>Lagos</td>\n",
       "      <td>Foreign Used</td>\n",
       "      <td>6-cylinder(V6)</td>\n",
       "      <td>automatic</td>\n",
       "      <td>petrol</td>\n",
       "      <td>Red</td>\n",
       "      <td>2010</td>\n",
       "      <td>7385000</td>\n",
       "    </tr>\n",
       "  </tbody>\n",
       "</table>\n",
       "</div>"
      ],
      "text/plain": [
       "   id                          title  odometer location    isimported  \\\n",
       "0   0                   Toyota RAV 4     18277   Lagos   Foreign Used   \n",
       "1   1            Toyota Land Cruiser        10    Lagos          New    \n",
       "2   2  Land Rover Range Rover Evoque     83091    Lagos  Foreign Used   \n",
       "3   3                   Lexus ES 350     91524    Lagos  Foreign Used   \n",
       "4   4                   Toyota Venza     94177    Lagos  Foreign Used   \n",
       "\n",
       "           engine transmission    fuel  paint  year    target  \n",
       "0  4-cylinder(I4)    automatic  petrol    Red  2016  13665000  \n",
       "1  4-cylinder(I4)    automatic  petrol  Black  2019  33015000  \n",
       "2  6-cylinder(V6)    automatic  petrol    Red  2012   9915000  \n",
       "3  4-cylinder(I4)    automatic  petrol   Gray  2007   3815000  \n",
       "4  6-cylinder(V6)    automatic  petrol    Red  2010   7385000  "
      ]
     },
     "execution_count": 27,
     "metadata": {},
     "output_type": "execute_result"
    }
   ],
   "source": [
    "\n",
    "# csv 형식으로 된 데이터 파일을 읽어옵니다. \n",
    "train = pd.read_csv('data/train.csv')\n",
    "test = pd.read_csv('data/test.csv')\n",
    "\n",
    "train.head()"
   ]
  },
  {
   "cell_type": "markdown",
   "metadata": {},
   "source": [
    "# 1. 타겟 변수 분석"
   ]
  },
  {
   "cell_type": "code",
   "execution_count": 28,
   "metadata": {},
   "outputs": [
    {
     "data": {
      "text/plain": [
       "count    1.015000e+03\n",
       "mean     8.243204e+06\n",
       "std      1.239567e+07\n",
       "min      4.000000e+05\n",
       "25%      2.535000e+06\n",
       "50%      4.215000e+06\n",
       "75%      8.927500e+06\n",
       "max      1.500150e+08\n",
       "Name: target, dtype: float64"
      ]
     },
     "execution_count": 28,
     "metadata": {},
     "output_type": "execute_result"
    }
   ],
   "source": [
    "# 통계량을 먼저 살펴봅니다.\n",
    "target = train['target']\n",
    "target.describe()"
   ]
  },
  {
   "cell_type": "markdown",
   "metadata": {},
   "source": [
    "## 1.1 위치추정\n",
    "데이터가 주어졌을 때, 데이터를 살펴보는 가장 기초적인 단계는 *대푯값*을 구하는 것입니다.\n",
    "이는 대부분의 값이 어디쯤에 위치하는지를 나타내는 값입니다.\n",
    "\n",
    "먼저 **평균값**과 **중간값**을 구해봅시다."
   ]
  },
  {
   "cell_type": "code",
   "execution_count": 38,
   "metadata": {},
   "outputs": [
    {
     "name": "stdout",
     "output_type": "stream",
     "text": [
      "평균값 :  8243204.450246305\n",
      "중간값 :  4215000.0\n",
      "중간값과 평균값의 차이 :  -4028204.450246305\n"
     ]
    }
   ],
   "source": [
    "# 평균과 중간값\n",
    "print('평균값 : ', target.mean())\n",
    "print('중간값 : ', target.median())\n",
    "print('중간값과 평균값의 차이 : ', target.median() - target.mean())"
   ]
  },
  {
   "cell_type": "markdown",
   "metadata": {},
   "source": [
    "데이터의 평균값과 중간값의 차이가 매우 큽니다.\n",
    "그리고 그 차이 (중간값 - 평균값)이 음수로, 이는 평균값이 중간값보다 크다는 것을 의미합니다.\n",
    "\n",
    "중간값은 이상치에 덜 민감한 반면, 평균값은 이상치에 민감합니다. \n",
    "따라서 두 값의 차이가 크다는 것은 **데이터에 이상치가 많을 수 있음**을 의미합니다.\n",
    "\n",
    "이 상황에서는 평균값을 데이터의 대푯값으로 사용하기에 적절하지 않습니다.\n",
    "\n",
    "이 경우 평균을 조금 변형한 **절사평균** 개념을 이용할 수 있습니다.\n",
    "절사평균은 데이터들을 크기 순으로 나열한 후, 양끝에서 일정 비율만큼의 데이터를 삭제한 뒤 남은 값들로 평균을 구합니다.\n",
    "\n",
    "아래의 코드는 각각 데이터의 양 끝에서 10%, 15%, 20%, 25% 제거하여 절사평균을 구하는 코드입니다.\n",
    "\n",
    "절사평균을 구하기 위해서 `scipy.stats`의 `trim_mean` 함수를 이용합니다.\n",
    "\n",
    "`trim_mean` 함수는 `trim_mean(데이터, 절사할 비율)` 형태로 이용하면 됩니다."
   ]
  },
  {
   "cell_type": "code",
   "execution_count": 45,
   "metadata": {},
   "outputs": [
    {
     "name": "stdout",
     "output_type": "stream",
     "text": [
      "0.0% 절사평균 :  8243204.450246305\n",
      "10.0% 절사평균 :  5653857.329643296\n",
      "15.0% 절사평균 :  5252582.29113924\n",
      "20.0% 절사평균 :  4967098.536945812\n",
      "25.0% 절사평균 :  4764495.106090373\n"
     ]
    }
   ],
   "source": [
    "from scipy.stats import trim_mean\n",
    "\n",
    "for trim in [0.0, 0.1, 0.15, 0.2, 0.25]:\n",
    "    print(f'{trim*100}% 절사평균 : ',trim_mean(target, trim))"
   ]
  },
  {
   "cell_type": "markdown",
   "metadata": {},
   "source": [
    "데이터를 5%씩 제거해갈수록 절사평균이 중간값에 가까워 집니다. \n",
    "\n",
    "특히 0% 절사평균(=평균)과 10% 절사평균 차이가 굉장히 큰 것으로 보아, 데이터 분포의 **양 옆 10%에 이상치가 위치할 가능성이 높습니다**."
   ]
  },
  {
   "cell_type": "markdown",
   "metadata": {},
   "source": [
    "## 1.2 변이추정\n",
    "데이터의 특징을 요약하는 요소는 위치 외에도 **변이**가 있습니다.\n",
    "변이는 데이터 값이 얼마나 밀집해 있는지 혹은 퍼져 있는지를 나타내는 **산포도**를 나타냅니다.\n",
    "\n",
    "변이추정의 기본은 **편차**를 기본으로 합니다.\n",
    "우리에게 익숙한 **분산** 또는 **표준편차**가 주로 이용됩니다."
   ]
  },
  {
   "cell_type": "code",
   "execution_count": 48,
   "metadata": {},
   "outputs": [
    {
     "name": "stdout",
     "output_type": "stream",
     "text": [
      "분산 :  153652724096224.1\n",
      "표준편차 :  12395673.603972642\n"
     ]
    }
   ],
   "source": [
    "print('분산 : ', target.var())\n",
    "print('표준편차 : ', target.std())"
   ]
  },
  {
   "cell_type": "markdown",
   "metadata": {},
   "source": [
    "표준편차가 굉장히 큽니다.\n",
    "그러나 표준편차의 정의에 평균값이 포함된다는 점을 기억합시다.\n",
    "\n",
    "앞서 평균값이 데이터의 대푯값으로 적절하지 않을 수 있다는 점을 상기해볼 때, 표준편차 또한 데이터의 변이를 나타내기에 적절하지 않을 수 있습니다.\n",
    "\n",
    "이때 사용할 수 있는 값이 중간값의 **중위절대편차(MAD)** 입니다.\n",
    "중위절대편차는 중위값과의 편차에 대한 중위값입니다.\n",
    "중위절대편차의 수식적 정의는 다음과 같습니다.\n",
    "\n",
    "$$MAD = median(|x_1 - m|, |x_2 - m|, \\ldots, |x_N - m|)$$\n",
    "여기서 $m$은 데이터의 중위값 입니다.\n",
    "중위절대편차는 중위값과 마찬가지로 이상치에 대해 덜 민감합니다.\n",
    "\n",
    "아래의 코드는 데이터의 중위절대편차를 구하는 코드입니다.\n",
    "중위절대편차를 계산하기 위해 `statsmodels.api`의    `robust.scale.mad` 함수를 이용합니다."
   ]
  },
  {
   "cell_type": "code",
   "execution_count": 70,
   "metadata": {},
   "outputs": [
    {
     "name": "stdout",
     "output_type": "stream",
     "text": [
      "중위절대편차 :  3409985.1025628843\n"
     ]
    }
   ],
   "source": [
    "# 중위표준편차 (MAD)는 statsmodels.api 패키지에 있는 함수로 구할 수 있다.\n",
    "import statsmodels.api as sm\n",
    "\n",
    "print('중위절대편차 : ',sm.robust.scale.mad(target))"
   ]
  },
  {
   "cell_type": "code",
   "execution_count": 64,
   "metadata": {},
   "outputs": [
    {
     "data": {
      "text/plain": [
       "(805014.897, 7624985.103)"
      ]
     },
     "execution_count": 64,
     "metadata": {},
     "output_type": "execute_result"
    }
   ],
   "source": [
    "# 구간 (m-mad, m+mad)을 구해 중위값 근방의 주요 데이터들이 속한 구간을 구해보자.\n",
    "target.median() - sm.robust.scale.mad(target), target.median() + sm.robust.scale.mad(target)"
   ]
  },
  {
   "cell_type": "markdown",
   "metadata": {},
   "source": [
    "MAD 값이 표준편차에 비해 훨씬 작은 값을 가지는 것을 알 수 있습니다.\n",
    "\n",
    "중간값(4,215,000)을 기준으로 중위절대편차 한 단위씩 좌우로 위치한 구간을 구해보면 (805,015, 7,624,985)이 나옵니다.\n",
    "\n",
    "어쩌면 이 구간 내의 가격에 속한 데이터들이 그나마 적정 가격선인 데이터이고, 이 구간 외에 있는 데이터들은 지나치게 가격이 비싼 데이터일 가능성이 있습니다.\n",
    "\n",
    "**추후에 입력변수들에 대한 전처리와 분석이 마친 뒤, 이들 구간 밖에 있는 데이터들을 살펴볼 필요가 있겠습니다.**\n",
    "\n",
    "> ***주의!***\n",
    "> 분산, 표준편차, 중위절대편차는 모두 데이터가 정규분포에서 왔다고 가정합니다. 우리의 데이터가 정규분포를 따르지 않는다면 이 추정치들에 대한 해석은 적절하지 않을 수  있습니다."
   ]
  },
  {
   "cell_type": "markdown",
   "metadata": {},
   "source": [
    "## 1.3 사분위수범위\n",
    "편차를 기준으로한 산포도는 데이터가 얼마나 모여있는지를 나타내지만, 데이터가 얼마나 퍼져있는지를 살펴보고 변이를 추정할 수도 있습니다.\n",
    "\n",
    "이때 가장 기본이 되는 측도는 최댓값과 최솟값의 차이인 범위입니다.\n",
    "그러나 최댓값이나 최솟값, 혹은 이들 근방에 있는 양 끝 값들은 이상치일 가능성이 높기 때문에, 이들을 지우고서 범위를 알아볼 수 있습니다.\n",
    "\n",
    "이때 주로 사용하는 것이 **사분위수범위**입니다.\n",
    "이는 데이터를 크기별로 나열했을 때, 하위 25%와 상위 25% 데이터를 제거해 구한 범위입니다.\n",
    "\n",
    "`pandas`의 `DataFrame`은 사분위수를 구할 수 있는 `quantile` 메서드를 제공합니다."
   ]
  },
  {
   "cell_type": "code",
   "execution_count": 67,
   "metadata": {},
   "outputs": [
    {
     "name": "stdout",
     "output_type": "stream",
     "text": [
      "최댓값 :  150015008\n",
      "최솟값 :  400000\n",
      "범위 :  149615008\n"
     ]
    }
   ],
   "source": [
    "# 최대, 최소, 범위\n",
    "print('최댓값 : ', target.max())\n",
    "print('최솟값 : ', target.min())\n",
    "print('범위 : ', target.max() - target.min())"
   ]
  },
  {
   "cell_type": "code",
   "execution_count": 66,
   "metadata": {},
   "outputs": [
    {
     "name": "stdout",
     "output_type": "stream",
     "text": [
      "상위 25% :  8927500.0\n",
      "하위 25% :  2535000.0\n",
      "사분위수 범위 :  6392500.0\n"
     ]
    }
   ],
   "source": [
    "# 사분위수범위\n",
    "print('상위 25% : ', target.quantile(0.75))\n",
    "print('하위 25% : ', target.quantile(0.25))\n",
    "print('사분위수 범위 : ',target.quantile(0.75) - target.quantile(0.25))"
   ]
  },
  {
   "cell_type": "markdown",
   "metadata": {},
   "source": [
    "범위와 사분위수 범위 사이의 차이가 큽니다.\n",
    "조금 더 자세히 살펴보면, 최댓값과 상위 25%값 사이의 차이가 굉장히 큽니다.\n",
    "그리고 최솟값과 하위 25%값 사이의 차이는 상대적으로 작습니다.\n",
    "어쩌면 **분포가 아래의 그림처럼 생겼을지도 모르겠습니다**.\n",
    "\n",
    "<img src = 'figure1.png'>\n",
    "\n",
    "이 직관에 의하면, 수집된 타겟 데이터는 정규분포를 따르지 않고있을 가능성이 큽니다."
   ]
  },
  {
   "cell_type": "markdown",
   "metadata": {},
   "source": [
    "# 1.4 왜도와 첨도\n",
    "앞선 분석에서 우리 데이터가 정규분포에서 굉장히 벗어나있을 가능성이 높음을 수 있다는 직관을 얻었습니다.\n",
    "\n",
    "왜도와 척도는 데이터의 분포가 정규분포에서 얼마나 벗어난 모양인지를 측정해주는 지표들입니다.\n",
    "\n",
    "각각의 개념을 대략적으로 살펴보고 그 값을 `Python`으로 구해 분석해보겠습니다."
   ]
  },
  {
   "cell_type": "markdown",
   "metadata": {},
   "source": [
    "> **왜도(Skewness)**\n",
    "> \n",
    ">왜도는 정규분포와 비교해서 확률변수의 분포가 얼마나 치우쳐 있는지의 정도를 나타냅니다.\n",
    ">- 왜도가 <span style=\"color:green\">**0**</span>인 경우 확률변수가 <span style=\"color:green\">**정규분포**</span>를 에 가깝습니다.\n",
    ">- 왜도가 <span style=\"color:red\">**양수**</span>인 경우 확률분포가 <span style=\"color:red\">**오른쪽**</span>으로 치우칩니다.\n",
    ">- 왜도가 <span style=\"color:blue\">**음수**</span>인 경우 확률분포가 <span style=\"color:blue\">**왼쪽**</span>으로 치우칩니다.\n",
    "\n",
    "![Skewness](https://upload.wikimedia.org/wikipedia/commons/thumb/f/f8/Negative_and_positive_skew_diagrams_%28English%29.svg/700px-Negative_and_positive_skew_diagrams_%28English%29.svg.png)\n",
    "사진출처 : [위키백과 왜도(비대칭도)](https://ko.wikipedia.org/wiki/%EB%B9%84%EB%8C%80%EC%B9%AD%EB%8F%84)"
   ]
  },
  {
   "cell_type": "code",
   "execution_count": 68,
   "metadata": {},
   "outputs": [
    {
     "name": "stdout",
     "output_type": "stream",
     "text": [
      "왜도 :  4.9552768084421\n"
     ]
    }
   ],
   "source": [
    "# Dataframe의 skew() 메서드를 사용하면 왜도를 알 수 있다.\n",
    "print('왜도 : ',target.skew())"
   ]
  },
  {
   "cell_type": "markdown",
   "metadata": {},
   "source": [
    "왜도 값이 거의 5에 가깝습니다.\n",
    "따라서 데이터는 **오른쪽으로 매우 치우쳐져** 있습니다.\n",
    "\n",
    "해석을 하자면 가격이 저렴한 매물은 많지만, 가격이 비싼 매물은 희소하다는 의미가 됩니다."
   ]
  },
  {
   "cell_type": "markdown",
   "metadata": {},
   "source": [
    "> **첨도(Kurtosis)**\n",
    "> \n",
    ">첨도는 확률분포의 꼬리가 얼마나 두꺼운지를 나타냅니다. \n",
    ">- 첨도가 <span style=\"color:green\">**3**</span>인 경우 확률변수가 <span style=\"color:green\">**정규분포**</span>에 가깝습니다.\n",
    ">- 첨도가 <span style=\"color:red\">**3보다 큰**</span> 경우 확률분포가 정규분포보다 <span style=\"color:red\">**꼬리가 두껍습니다.**</span>\n",
    ">- 첨도가 <span style=\"color:blue\">**3보다 작은**</span>인 경우 확률분포가 정규분포보다 <span style=\"color:blue\">**꼬리가 얇습니다.**</span>\n",
    "\n",
    "![Kurtosis](https://upload.wikimedia.org/wikipedia/commons/thumb/3/33/Standard_symmetric_pdfs.svg/440px-Standard_symmetric_pdfs.svg.png)\n",
    "사진출처 : [위키백과 첨도](https://ko.wikipedia.org/wiki/%EC%B2%A8%EB%8F%84)"
   ]
  },
  {
   "cell_type": "code",
   "execution_count": 69,
   "metadata": {},
   "outputs": [
    {
     "name": "stdout",
     "output_type": "stream",
     "text": [
      "첨도 :  35.55992197898911\n"
     ]
    }
   ],
   "source": [
    "# Dataframe의 kurt() 메서드를 사용하면 왜도를 알 수 있다.\n",
    "print('첨도 : ', target.kurt())"
   ]
  },
  {
   "cell_type": "markdown",
   "metadata": {},
   "source": [
    "첨도의 값이 35에 가깝습니다. 따라서 데이터는 정규분포에 비해 꼬리가 매우 두껍습니다.\n",
    "\n",
    "일반적으로 첨도가 크면 **데이터에 이상치가 많은 것으로 생각합니다**."
   ]
  },
  {
   "cell_type": "markdown",
   "metadata": {},
   "source": [
    "정리해봅시다.\n",
    "- 왜도가 굉장히 크다. 데이터가 정규분포로부터 굉장히 벗어나 있다. 따라서 **정규분포를 가정하는 많은 통계기법들은 소용이 없을 수 있다**. 예를들어, 이 데이터는 평균값을 데이터의 대푯값으로 사용하기에 부적합하다.\n",
    "- 첨도가 굉장히 크다. 데이터에 이상치가 많을 수 있다. 이 경우 **이상치 탐치 알고리즘**을 적용해 데이터 전처리를 시도해볼 수 있다."
   ]
  },
  {
   "cell_type": "markdown",
   "metadata": {},
   "source": [
    "## 1.5 분석자동화\n",
    "\n",
    "지금까지 위치분석, 변이분석, 사분위수범위, 왜도와 첨도 등을 통해 타겟변수를 분석해보았습니다.\n",
    "\n",
    "타겟변수는 수치형변수이므로, 지금까지의 분석 방법은 타겟변수 뿐만 아니라 입력변수에 속한 수치형변수들을 분석하는 데에 사용할 수 있을 것입니다.\n",
    "\n",
    "따라서 위 모든 분석과정을 하나의 함수로 작성해 다음부터는 수치형변수 데이터를 입력하기만 하면 각각의 분석값을 출력해주도록 하면 편리할 것입니다.\n",
    "\n",
    "여기에는 각자의 아이디어를 무궁무진하게 응용할 수 있을 것입니다. "
   ]
  },
  {
   "cell_type": "code",
   "execution_count": 97,
   "metadata": {},
   "outputs": [],
   "source": [
    "# 수치형변수 분석기\n",
    "from scipy.stats import trim_mean\n",
    "import statsmodels.api as sm\n",
    "\n",
    "\n",
    "\n",
    "def numerical_analysis(dataframe):\n",
    "    # 분석을 통해 얻어지는 결과들은 dictionary에 저장합니다.\n",
    "    analysis = {}\n",
    "\n",
    "    # 위치분석\n",
    "    analysis['평균'] = dataframe.mean()\n",
    "    analysis['중위값'] = dataframe.median()\n",
    "    \n",
    "    for trim in [0.0, 0.1, 0.15, 0.2, 0.25]:\n",
    "        analysis[f'{trim*100}% 절사평균'] = trim_mean(dataframe, trim)\n",
    "    \n",
    "    # 변이분석\n",
    "    analysis['분산'] = dataframe.var()\n",
    "    analysis['표준편차'] = dataframe.std()\n",
    "    analysis['중위절대편차'] = sm.robust.scale.mad(dataframe)\n",
    "\n",
    "    analysis['-1sigma'] = analysis['평균'] - analysis['표준편차']\n",
    "    analysis['+1sigma'] = analysis['평균'] + analysis['표준편차']\n",
    "\n",
    "    analysis['-1MAD'] = analysis['중위값'] - analysis['중위절대편차']\n",
    "    analysis['+1MAD'] = analysis['중위값'] + analysis['중위절대편차']\n",
    "\n",
    "    # 범위분석\n",
    "    analysis['최댓값'] = dataframe.max()\n",
    "    analysis['최솟값'] = dataframe.min()\n",
    "    analysis['범위'] = analysis['최댓값'] - analysis['최솟값']\n",
    "    \n",
    "    analysis['75분위수'] = dataframe.quantile(0.25) \n",
    "    analysis['25분위수'] = dataframe.quantile(0.75)\n",
    "    analysis['사분위수범위'] = analysis['75분위수'] - analysis['25분위수']\n",
    "\n",
    "    # 왜도와 첨도\n",
    "    analysis['왜도'] = dataframe.skew()\n",
    "    analysis['첨도'] = dataframe.kurt()\n",
    "\n",
    "    return analysis"
   ]
  },
  {
   "cell_type": "code",
   "execution_count": 98,
   "metadata": {},
   "outputs": [
    {
     "data": {
      "text/plain": [
       "{'평균': 8243204.450,\n",
       " '중위값': 4215000.000,\n",
       " '0.0% 절사평균': 8243204.450,\n",
       " '10.0% 절사평균': 5653857.330,\n",
       " '15.0% 절사평균': 5252582.291,\n",
       " '20.0% 절사평균': 4967098.537,\n",
       " '25.0% 절사평균': 4764495.106,\n",
       " '분산': 153652724096224.094,\n",
       " '표준편차': 12395673.604,\n",
       " '중위절대편차': 3409985.103,\n",
       " '-1sigma': -4152469.154,\n",
       " '+1sigma': 20638878.054,\n",
       " '-1MAD': 805014.897,\n",
       " '+1MAD': 7624985.103,\n",
       " '최댓값': 150015008,\n",
       " '최솟값': 400000,\n",
       " '범위': 149615008,\n",
       " '75분위수': 2535000.000,\n",
       " '25분위수': 8927500.000,\n",
       " '사분위수범위': -6392500.000,\n",
       " '왜도': 4.955,\n",
       " '첨도': 35.560}"
      ]
     },
     "execution_count": 98,
     "metadata": {},
     "output_type": "execute_result"
    }
   ],
   "source": [
    "numerical_analysis(target)"
   ]
  },
  {
   "cell_type": "markdown",
   "metadata": {},
   "source": [
    "## 1.6 정리"
   ]
  },
  {
   "cell_type": "markdown",
   "metadata": {},
   "source": [
    "지금까지 타겟 데이터의 대푯값을 추정하는 방법을 통해 데이터를 요약하고 분석해보았습니다.\n",
    "\n",
    "분석 내용을 정리해봅시다.\n",
    "\n",
    "> **위치분석결과** \n",
    "> \n",
    "> - 평균이 중위값보다 매우 크다. 데이터 중에 비정상적으로 큰 값이 존재할 수 있다.\n",
    "> - 평균과 10%절사평균의 차이가 굉장히 크다. 양 끝 10% 데이터에 이상치가 존재할 가능성이 높다.\n",
    "> \n",
    "> **변이분석결과**\n",
    "> \n",
    "> - 분산과 표준편차가 비이상적으로 크다. 평균이 대푯값으로서 적절하지 않을 수 있다.\n",
    "> - 중위값이 대푯값으로 적절하다고 생각하고 1MAD 단위 구간을 구하면, 약 (800000 , 7600000)이다.\n",
    "> \n",
    "> **범위분석결과**\n",
    "> \n",
    "> - 범위와 사분위수범위 간의 차가 굉장히 크다. 데이터에 이상치가 존재할 가능성이 높다.\n",
    "> - 최댓값과 75분위수의 차이가 굉장히 크고 최솟값과 25분위수 사이의 차이는 상대적으로 작다. 이는 데이터의 분포가 작은값 쪽으로 많이 쏠린 형태임을 시사한다.\n",
    "> \n",
    "> **왜도첨도분석**\n",
    "> \n",
    "> - 왜도가 약 5(>0)이다. 데이터가 오른쪽으로 굉장히 치우쳐 있다.\n",
    "> - 첨도가 약 35(>3)이다. 데이터의 꼬리가 굉장히 두꺼워, 이상치가 많을 가능성이 높다. \n",
    "\n",
    "분석 결과를 총합해 요약하자면, **타겟 데이터는 정규분포에서 많이 벗어나 있고, 이상치가 존재한다는 신호가 많다**고 할 수 있겠습니다.\n",
    "\n",
    "이를 통해 **타겟 데이터가 어떤 분포를 띄는게 적절할지 생각**해볼 수 있겠습니다.\n",
    "\n",
    "아무래도 타겟 데이터가 정규분포를 띄어야 하는게 타당하다고 생각한다면, 샘플을 더 수집할 수는 없으니 데이터 전처리를 설계할 때 타겟 데이터에 대해 이상치탐지 알고리즘을 사용할 것을 재고해볼 수 있겠습니다.\n",
    "\n",
    "혹은 타겟 데이터가 정규분포가 아닌 다른 분포를 띄어야 할 수도 있겠다 추론할 수 있습니다.\n",
    "이를 분석하기 위해서는 더욱 깊은 통계지식과 직관, 그리고 타겟 데이터에 대한 도메인지식이 필요할 수 있습니다."
   ]
  },
  {
   "cell_type": "markdown",
   "metadata": {},
   "source": [
    "본 포스팅에서 사용된 방법들은 다른 수치형 변수에 대해서도 동일하게 응용될 수 있습니다.\n",
    "\n",
    "또한 추후에 데이터전처리 과정을 거친 다음 다시 동일한 분석방법을 적용해볼 수 있습니다.\n",
    "\n",
    "그때 데이터전처리 전후의 분석 변화를 살펴보는 것도 유의미한 지식이 될 것입니다.\n",
    "\n",
    "다음 번에는 타겟 데이터가 전반적으로 어떻게 분포하고 있는지 다양한 시각화 도구들을 통해 분석해보도록 하겠습니다.\n",
    "\n",
    "지금까지 읽어주셔서 감사합니다 :)"
   ]
  }
 ],
 "metadata": {
  "interpreter": {
   "hash": "5cb7460d01971850367bd1b2daf3e8adb7995025ce41fb9ea96ac3b069967568"
  },
  "kernelspec": {
   "display_name": "Python 3.8.13 ('dacon')",
   "language": "python",
   "name": "python3"
  },
  "language_info": {
   "codemirror_mode": {
    "name": "ipython",
    "version": 3
   },
   "file_extension": ".py",
   "mimetype": "text/x-python",
   "name": "python",
   "nbconvert_exporter": "python",
   "pygments_lexer": "ipython3",
   "version": "3.8.13"
  },
  "orig_nbformat": 4
 },
 "nbformat": 4,
 "nbformat_minor": 2
}
